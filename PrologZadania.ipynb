{
  "nbformat": 4,
  "nbformat_minor": 0,
  "metadata": {
    "colab": {
      "provenance": []
    },
    "kernelspec": {
      "name": "python3",
      "display_name": "Python 3"
    },
    "language_info": {
      "name": "python"
    }
  },
  "cells": [
    {
      "cell_type": "code",
      "execution_count": null,
      "metadata": {
        "id": "I9iZ751OTrg1"
      },
      "outputs": [],
      "source": []
    },
    {
      "cell_type": "markdown",
      "source": [
        "**Zadanie 1: Drzewo genealogiczne**\n",
        "\n",
        "Zadanie: Stwórz bazę faktów dla drzewa genealogicznego, która obejmuje relacje rodzic-dziecko, małżeństwo oraz płeć. Następnie zdefiniuj reguły przodek(X, Y), brat(X, Y), siostra(X, Y), kuzyn(X, Y)."
      ],
      "metadata": {
        "id": "j5KYXNVNUN6G"
      }
    },
    {
      "cell_type": "code",
      "source": [
        "% Fakty\n",
        "ojciec(jan, anna).\n",
        "ojciec(jan, piotr).\n",
        "ojciec(tomasz, dawid).\n",
        "ojciec(krzysztof, tomasz).\n",
        "ojciec(krzysztof, jan).\n",
        "matka(maria, anna).\n",
        "matka(maria, piotr).\n",
        "matka(justyna, dawid).\n",
        "malzenstwo(jan, maria).\n",
        "malzenstwo(tomasz, justyna).\n",
        "mezczyzna(jan).\n",
        "mezczyzna(piotr).\n",
        "mezczyzna(tomasz).\n",
        "kobieta(maria).\n",
        "kobieta(anna).\n",
        "kobieta(justyna).\n",
        "\n",
        "% Reguły\n",
        "przodek(X, Y) :- ojciec(X, Y).\n",
        "przodek(X, Y) :- matka(X, Y).\n",
        "przodek(X, Y) :- (ojciec(X, Z); matka(X, Z)), przodek(Z, Y).\n",
        "rodzic(X, Y) :- ojciec(X, Y).\n",
        "rodzic(X, Y) :- matka(X, Y).\n",
        "brat(X, Y) :- mezczyzna(X), ojciec(Z, X), ojciec(Z, Y), X \\= Y.\n",
        "siostra(X, Y) :- kobieta(X), ojciec(Z, X), ojciec(Z, Y), X \\= Y.\n",
        "kuzyn(X, Y) :- rodzic(A, X), rodzic(B, Y), siostra(A, B).\n",
        "kuzyn(X, Y) :- rodzic(A, X), rodzic(B, Y), brat(A, B).\n",
        "\n",
        "?- przodek(jan, anna). %true\n",
        "?- brat(piotr, anna). %true\n",
        "?- kuzyn(X, piotr). %X = dawid\n",
        "\n"
      ],
      "metadata": {
        "id": "hRv1MG_wUP1t"
      },
      "execution_count": null,
      "outputs": []
    },
    {
      "cell_type": "markdown",
      "source": [
        "**Zadanie 2: System rezerwacji lotów**\n",
        "\n",
        "Zadanie: Stwórz bazę faktów dla systemu rezerwacji lotów, który obejmuje lotniska, połączenia między lotniskami oraz ceny biletów. Zdefiniuj reguły polaczenie(X, Y), koszt_podrozy(X, Y, C), najkrotsza_droga(X, Y).Cel zadania: Stwórz i zaimplementuj bazę faktów dla systemu rezerwacji lotów, który umożliwia zarządzanie lotniskami, połączeniami między nimi oraz cenami biletów. Opracuj reguły, które pozwolą na zapytania o bezpośrednie połączenia, koszt podróży oraz znalezienie najkrótszej trasy między lotniskami."
      ],
      "metadata": {
        "id": "i0lRm8XdY8J9"
      }
    },
    {
      "cell_type": "code",
      "source": [
        "%Fakty\n",
        "lotnisko(warszawa).\n",
        "lotnisko(krakow).\n",
        "lotnisko(gdansk).\n",
        "lotnisko(poznan).\n",
        "polaczenie(warszawa, krakow, 300).\n",
        "polaczenie(krakow, gdansk, 200).\n",
        "polaczenie(warszawa, gdansk, 500).\n",
        "polaczenie(warszawa, poznan, 150).\n",
        "polaczenie(poznan, gdansk, 350).\n",
        "polaczenie(krakow, warszawa, 300).\n",
        "polaczenie(gdansk, krakow, 200).\n",
        "polaczenie(gdansk, warszawa, 500).\n",
        "polaczenie(gdansk, poznan, 350).\n",
        "polaczenie(poznan, warszawa, 150).\n",
        "\n",
        "%Reguły\n",
        "polaczenie(X, Y) :- polaczenie(X, Y, _).\n",
        "koszt_podrozy(X, Y, C) :- polaczenie(X, Y, C).\n",
        "droga(X, Y, Trasa, C) :- droga(X, Y, [X], Trasa, C).\n",
        "droga(X, Y, TrasaSoFar, Trasa, C) :- polaczenie(X, Y, C), reverse([Y|TrasaSoFar], Trasa).\n",
        "droga(X, Y, TrasaSoFar, Trasa, C) :-\n",
        "    polaczenie(X, Z, C1),\n",
        "    Z \\= Y,\n",
        "    \\+ member(Z, TrasaSoFar),\n",
        "    droga(Z, Y, [Z|TrasaSoFar], Trasa, C2),\n",
        "    C is C1 + C2.\n",
        "najkrotsza_droga(X, Y) :-\n",
        "    setof((C, Trasa), droga(X, Y, Trasa, C), [(Koszt, NajkrotszaTrasa)|_]),\n",
        "    write('Najkrótsza droga z '), write(X), write(' do '), write(Y), nl,\n",
        "    write('Trasa: '), write(NajkrotszaTrasa), nl,\n",
        "    write('Koszt: '), write(Koszt), write(' PLN'), nl.\n",
        "\n",
        "?- polaczenie(warszawa, krakow). %true\n",
        "?- koszt_podrozy(warszawa, gdansk, C). %C = 500\n",
        "?- najkrotsza_droga(warszawa, gdansk).\n",
        "%Najkrótsza droga z warszawa do gdansk\n",
        " Trasa: [warszawa, gdansk]\n",
        " Koszt: 500 PLN\n",
        " true"
      ],
      "metadata": {
        "id": "AnPlEyx-Y-Rg"
      },
      "execution_count": null,
      "outputs": []
    },
    {
      "cell_type": "markdown",
      "source": [
        "**Zadanie 3: System zarządzania magazynem**\n",
        "\n",
        "Cel zadania: Stwórz i zaimplementuj bazę faktów dla systemu zarządzania magazynem. Baza danych powinna zawierać informacje o produktach, ich ilościach oraz lokalizacji w magazynie. Opracuj reguły, które umożliwią zarządzanie dostępnością produktów, ich przenoszeniem oraz uzupełnianiem stanu."
      ],
      "metadata": {
        "id": "ZfkNhiBNrtqh"
      }
    },
    {
      "cell_type": "code",
      "source": [
        "%Fakty\n",
        "produkty([produkt(tv, 10, sektor_a),\n",
        "          produkt(pralka, 5, sektor_b),\n",
        "          produkt(lodowka, 3, sektor_c)]).\n",
        "%Reguły\n",
        "dostepny_produkt(X) :- produkty(Produkty), member(produkt(X, Ilosc, _), Produkty), Ilosc > 0.\n",
        "przenies_produkt(X, NowySektor, NowaLista) :-\n",
        "    produkty(Produkty),\n",
        "    delete(Produkty, produkt(X, Ilosc, _), TymczasowaLista),\n",
        "    append(TymczasowaLista, [produkt(X, Ilosc, NowySektor)], NowaLista).\n",
        "uzupelnij_stan(X, DodanaIlosc, NowaLista) :-\n",
        "    produkty(Produkty),\n",
        "    member(produkt(X, Ilosc, Sektor), Produkty),\n",
        "    NowaIlosc is Ilosc + DodanaIlosc,\n",
        "    delete(Produkty, produkt(X, Ilosc, Sektor), TymczasowaLista),\n",
        "    append(TymczasowaLista, [produkt(X, NowaIlosc, Sektor)], NowaLista).\n",
        "\n",
        "?- dostepny_produkt(tv). %true\n",
        "?- przenies_produkt(tv, sektor_b, NowaLista). %NowaLista = [produkt(pralka,5,sektor_b), produkt(lodowka,3,sektor_c), produkt(tv,_,sektor_b)]\n",
        "?- uzupelnij_stan(pralka, 3, NowaLista). %NowaLista = [produkt(tv,10,sektor_a), produkt(lodowka,3,sektor_c), produkt(pralka,8,sektor_b)]"
      ],
      "metadata": {
        "id": "umG258vTruEg"
      },
      "execution_count": null,
      "outputs": []
    },
    {
      "cell_type": "markdown",
      "source": [
        "**Zadanie 4: System planowania trasy kuriera**\n",
        "\n",
        "Cel zadania: Zaprojektuj i wdroż w Prologu bazę faktów dla systemu planowania trasy kuriera. Baza danych powinna zawierać informacje o miastach, połączeniach drogowych między nimi oraz czasie przejazdu. Opracuj reguły umożliwiające zapytania o dostępność dróg, obliczanie czasu przejazdu oraz wyznaczanie najkrótszej trasy."
      ],
      "metadata": {
        "id": "MVFI2Iwlr4-m"
      }
    },
    {
      "cell_type": "code",
      "source": [
        "%Fakty:\n",
        "miasto(warszawa).\n",
        "miasto(krakow).\n",
        "miasto(poznan).\n",
        "droga(warszawa, krakow, 4).\n",
        "droga(krakow, poznan, 3).\n",
        "droga(warszawa, poznan, 7).\n",
        "\n",
        "% Reguły:\n",
        "droga(X, Y) :- droga(X, Y, _).\n",
        "droga(X, Y) :- droga(Y, X, _).\n",
        "czas_przejazdu(X, Y, T) :-\n",
        "    droga(X, Y, T).\n",
        "czas_przejazdu(X, Y, T) :-\n",
        "    droga(X, Z, T1),\n",
        "    czas_przejazdu(Z, Y, T2),\n",
        "    T is T1 + T2.\n",
        "najkrotsza_trasa(X, Y) :-\n",
        "    findall(T, czas_przejazdu(X, Y, T), ListaCzasow),\n",
        "    min_list(ListaCzasow, NajkrotszyCzas),\n",
        "    format('Najkrótszy czas przejazdu: ~w', [NajkrotszyCzas]).\n",
        "\n",
        "?- droga(warszawa, krakow). %true\n",
        "?- czas_przejazdu(warszawa, poznan, T). %T = 7\n",
        "?- najkrotsza_trasa(warszawa, poznan). %Najkrótszy czas przejazdu: 7 true"
      ],
      "metadata": {
        "id": "Q77vYzq2r_TD"
      },
      "execution_count": null,
      "outputs": []
    },
    {
      "cell_type": "markdown",
      "source": [
        "**Zadanie 5: System rekomendacji książek**\n",
        "\n",
        "Cel zadania: Stwórz system rekomendacji książek, który uwzględnia preferencje użytkowników, gatunki literackie oraz oceny książek. Twój system powinien być w stanie rekomendować książki danego gatunku użytkownikowi na podstawie jego preferencji oraz wcześniej przyznanych ocen."
      ],
      "metadata": {
        "id": "hPLhMzJ0r_wY"
      }
    },
    {
      "cell_type": "code",
      "source": [
        "% Fakty\n",
        "ksiazka('W pustyni i w puszczy', sienkiewicz, przygodowa).\n",
        "ksiazka('Hobbit', tolkien, fantasy).\n",
        "ksiazka('Pan Tadeusz', mickiewicz, poezja).\n",
        "ocena(uzytkownik1, 'W pustyni i w puszczy', 5).\n",
        "ocena(uzytkownik1, 'Hobbit', 4).\n",
        "ocena(uzytkownik1, 'Pan Tadeusz', 3).\n",
        "preferencje(uzytkownik1, fantasy).\n",
        "\n",
        "%Reguły\n",
        "polecane_ksiazki(Uzytkownik, Gatunek) :-\n",
        "    preferencje(Uzytkownik, Gatunek),\n",
        "    findall(Tytul, (ksiazka(Tytul, _, Gatunek),\n",
        "                    ocena(Uzytkownik, Tytul, Ocena),\n",
        "                    Ocena >= 4),\n",
        "            Ksiazki),\n",
        "    list_to_set(Ksiazki, KsiazkiUnikalne),\n",
        "    write(KsiazkiUnikalne).\n",
        "\n",
        "?- polecane_ksiazki(uzytkownik1, fantasy). %['Hobbit'] true"
      ],
      "metadata": {
        "id": "drLpv_pvsAFX"
      },
      "execution_count": null,
      "outputs": []
    }
  ]
}