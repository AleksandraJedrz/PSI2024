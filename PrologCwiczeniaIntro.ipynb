{
  "nbformat": 4,
  "nbformat_minor": 0,
  "metadata": {
    "colab": {
      "provenance": []
    },
    "kernelspec": {
      "name": "python3",
      "display_name": "Python 3"
    },
    "language_info": {
      "name": "python"
    }
  },
  "cells": [
    {
      "cell_type": "markdown",
      "source": [
        "Ćwiczenie 1: Definiowanie prostych faktów"
      ],
      "metadata": {
        "id": "8Cgazb_a3LEd"
      }
    },
    {
      "cell_type": "code",
      "source": [
        "% Fakty\n",
        "ojciec(jan, anna).\n",
        "ojciec(jan, piotr).\n",
        "matka(maria, anna).\n",
        "matka(maria, piotr).\n",
        "\n",
        "?- ojciec(jan, anna). %true\n",
        "?- matka(maria, piotr). %true"
      ],
      "metadata": {
        "id": "vrNGU2m43Poo"
      },
      "execution_count": null,
      "outputs": []
    },
    {
      "cell_type": "markdown",
      "source": [
        "Ćwiczenie 2: Reguły rodzica"
      ],
      "metadata": {
        "id": "dXjdiaIA4Etk"
      }
    },
    {
      "cell_type": "code",
      "source": [
        "% Fakty\n",
        "ojciec(jan, anna).\n",
        "ojciec(jan, piotr).\n",
        "matka(maria, anna).\n",
        "matka(maria, piotr).\n",
        "\n",
        "% Reguły\n",
        "rodzic(X, Y) :- ojciec(X, Y).\n",
        "rodzic(X, Y) :- matka(X, Y).\n",
        "\n",
        "?- rodzic(jan, anna). %true\n",
        "?- rodzic(maria, piotr). %true"
      ],
      "metadata": {
        "id": "mGZZHh1W4G1D"
      },
      "execution_count": null,
      "outputs": []
    },
    {
      "cell_type": "markdown",
      "source": [
        "Ćwiczenie 3: Zdefiniowanie dziadka"
      ],
      "metadata": {
        "id": "esNaGCcV5T3R"
      }
    },
    {
      "cell_type": "code",
      "source": [
        "% Fakty\n",
        "ojciec(jan, anna).\n",
        "ojciec(jan, piotr).\n",
        "ojciec(karol, jan).\n",
        "matka(maria, anna).\n",
        "matka(maria, piotr).\n",
        "\n",
        "% Reguły\n",
        "rodzic(X, Y) :- ojciec(X, Y).\n",
        "rodzic(X, Y) :- matka(X, Y).\n",
        "dziadek(X, Y) :- ojciec(X, Z), ojciec(Z, Y).\n",
        "\n",
        "?- dziadek(karol, anna). %true"
      ],
      "metadata": {
        "id": "g5rTKYpY5W23"
      },
      "execution_count": null,
      "outputs": []
    },
    {
      "cell_type": "markdown",
      "source": [
        "Ćwiczenie 4: Predykat siostra"
      ],
      "metadata": {
        "id": "iLoesw_y7a5K"
      }
    },
    {
      "cell_type": "code",
      "source": [
        "% Fakty\n",
        "ojciec(jan, anna).\n",
        "ojciec(jan, piotr).\n",
        "ojciec(karol, jan).\n",
        "matka(maria, anna).\n",
        "matka(maria, piotr).\n",
        "\n",
        "% Reguły\n",
        "rodzic(X, Y) :- ojciec(X, Y).\n",
        "rodzic(X, Y) :- matka(X, Y).\n",
        "dziadek(X, Y) :- ojciec(X, Z), ojciec(Z, Y).\n",
        "siostra(X, Y) :- rodzic(Z, X), rodzic(Z, Y), X \\= Y.\n",
        "\n",
        "?- siostra(anna, piotr). %true\n",
        "?- siostra(anna, anna).  %false"
      ],
      "metadata": {
        "id": "VQW_O9Fn7fFx"
      },
      "execution_count": null,
      "outputs": []
    },
    {
      "cell_type": "markdown",
      "source": [
        "Ćwiczenie 5: Zastosowanie zmiennych anonimowych"
      ],
      "metadata": {
        "id": "oWiGP-GOBXbz"
      }
    },
    {
      "cell_type": "code",
      "source": [
        "% Fakty\n",
        "ojciec(jan, anna).\n",
        "ojciec(jan, piotr).\n",
        "ojciec(karol, jan).\n",
        "matka(maria, anna).\n",
        "matka(maria, piotr).\n",
        "\n",
        "% Reguły\n",
        "rodzic(X, Y) :- ojciec(X, Y).\n",
        "rodzic(X, Y) :- matka(X, Y).\n",
        "dziadek(X, Y) :- ojciec(X, Z), ojciec(Z, Y).\n",
        "siostra(X, Y) :- rodzic(Z, X), rodzic(Z, Y), X \\= Y.\n",
        "jest_rodzicem(X) :- rodzic(X, _).\n",
        "\n",
        "?- jest_rodzicem(jan). %true\n",
        "?- jest_rodzicem(maria). %true"
      ],
      "metadata": {
        "id": "uhZ4XI2TBZiD"
      },
      "execution_count": null,
      "outputs": []
    },
    {
      "cell_type": "markdown",
      "source": [
        "Ćwiczenie 6: Reguła czyj_rodzic"
      ],
      "metadata": {
        "id": "4aAAs-GlESqr"
      }
    },
    {
      "cell_type": "code",
      "source": [
        "% Fakty\n",
        "ojciec(jan, anna).\n",
        "ojciec(jan, piotr).\n",
        "ojciec(karol, jan).\n",
        "matka(maria, anna).\n",
        "matka(maria, piotr).\n",
        "\n",
        "% Reguły\n",
        "rodzic(X, Y) :- ojciec(X, Y).\n",
        "rodzic(X, Y) :- matka(X, Y).\n",
        "dziadek(X, Y) :- ojciec(X, Z), ojciec(Z, Y).\n",
        "siostra(X, Y) :- rodzic(Z, X), rodzic(Z, Y), X \\= Y.\n",
        "jest_rodzicem(X) :- rodzic(X, _).\n",
        "czyj_rodzic(X, ListaDzieci) :- findall(Dziecko, rodzic(X, Dziecko), ListaDzieci).\n",
        "\n",
        "?- czyj_rodzic(jan, ListaDzieci). %ListaDzieci = [anna, piotr]\n",
        "?- czyj_rodzic(maria, ListaDzieci). %ListaDzieci = [anna, piotr]"
      ],
      "metadata": {
        "id": "dOyymtx-EUpY"
      },
      "execution_count": null,
      "outputs": []
    },
    {
      "cell_type": "markdown",
      "source": [
        "Ćwiczenie 7: Wykorzystanie cut (!)"
      ],
      "metadata": {
        "id": "DPY1dydlFTCD"
      }
    },
    {
      "cell_type": "code",
      "source": [
        "% Fakty\n",
        "ojciec(jan, anna).\n",
        "ojciec(jan, piotr).\n",
        "ojciec(karol, jan).\n",
        "matka(maria, anna).\n",
        "matka(maria, piotr).\n",
        "\n",
        "% Reguły\n",
        "rodzic(X, Y) :- ojciec(X, Y).\n",
        "rodzic(X, Y) :- matka(X, Y).\n",
        "rodzic_cut(X, Y) :- rodzic(X, Y), !.\n",
        "rodzic_bez_cut(X, Y) :- rodzic(X, Y).\n",
        "\n",
        "?- rodzic_cut(jan, X). % X = anna\n",
        "?- rodzic_bez_cut(jan, X). % X = anna; X = piotr"
      ],
      "metadata": {
        "id": "7YYhbFoKFWS6"
      },
      "execution_count": null,
      "outputs": []
    },
    {
      "cell_type": "markdown",
      "source": [
        "Ćwiczenie 8: Kontrola przepływu przy użyciu cut"
      ],
      "metadata": {
        "id": "ke0GS6iPHuBF"
      }
    },
    {
      "cell_type": "code",
      "source": [
        "% Fakty\n",
        "ojciec(jan, anna).\n",
        "ojciec(jan, piotr).\n",
        "ojciec(karol, jan).\n",
        "matka(maria, anna).\n",
        "matka(maria, piotr).\n",
        "\n",
        "% Reguły\n",
        "rodzic(X, Y) :- ojciec(X, Y), !.\n",
        "rodzic(X, Y) :- matka(X, Y).\n",
        "rodzic_cut(X, Y) :- rodzic(X, Y), !.\n",
        "rodzic_bez_cut(X, Y) :- rodzic(X, Y).\n",
        "\n",
        "?- rodzic(jan, anna). % true\n",
        "?- rodzic(maria, anna). % true"
      ],
      "metadata": {
        "id": "k7QZevpcHwTX"
      },
      "execution_count": null,
      "outputs": []
    },
    {
      "cell_type": "markdown",
      "source": [
        "Ćwiczenie 9: Predykaty arytmetyczne"
      ],
      "metadata": {
        "id": "uYPOZ8pAJFii"
      }
    },
    {
      "cell_type": "code",
      "source": [
        "% Fakty\n",
        "ojciec(jan, anna).\n",
        "ojciec(jan, piotr).\n",
        "ojciec(karol, jan).\n",
        "matka(maria, anna).\n",
        "matka(maria, piotr).\n",
        "wiek(jan, 47).\n",
        "wiek(maria, 48).\n",
        "wiek(anna, 20).\n",
        "wiek(piotr, 15).\n",
        "wiek(karol, 70).\n",
        "\n",
        "% Reguły\n",
        "rodzic(X, Y) :- ojciec(X, Y).\n",
        "rodzic(X, Y) :- matka(X, Y).\n",
        "starszy(X, Y) :- wiek(X, WiekX), wiek(Y, WiekY), WiekX > WiekY.\n",
        "\n",
        "?- starszy(jan, maria). %false\n",
        "?- starszy(maria, jan). %true"
      ],
      "metadata": {
        "id": "a772MOQsJHw6"
      },
      "execution_count": null,
      "outputs": []
    },
    {
      "cell_type": "markdown",
      "source": [
        "Ćwiczenie 10: Operatory porównania i predykaty wbudowane"
      ],
      "metadata": {
        "id": "xoS3AuaVZmu7"
      }
    },
    {
      "cell_type": "code",
      "source": [
        "% Fakty\n",
        "ojciec(jan, anna).\n",
        "ojciec(jan, piotr).\n",
        "ojciec(karol, jan).\n",
        "matka(maria, anna).\n",
        "matka(maria, piotr).\n",
        "wiek(jan, 47).\n",
        "wiek(maria, 48).\n",
        "wiek(anna, 20).\n",
        "wiek(piotr, 15).\n",
        "wiek(karol, 70).\n",
        "\n",
        "% Reguły\n",
        "rodzic(X, Y) :- ojciec(X, Y).\n",
        "rodzic(X, Y) :- matka(X, Y).\n",
        "starszy(X, Y) :- wiek(X, WiekX), wiek(Y, WiekY), WiekX > WiekY.\n",
        "wiek_wiecej_niz(N) :- wiek(X, Wiek), Wiek > N, write(X), nl, fail.\n",
        "wiek_wiecej_niz(_).\n",
        "\n",
        "?- wiek_wiecej_niz(40). %jan, maria, karol"
      ],
      "metadata": {
        "id": "YgIQl2y3Zoy0"
      },
      "execution_count": null,
      "outputs": []
    },
    {
      "cell_type": "markdown",
      "source": [
        "Ćwiczenie 11: Dynamiczna baza faktów"
      ],
      "metadata": {
        "id": "RXKERCdwbB6V"
      }
    },
    {
      "cell_type": "code",
      "source": [
        "% Fakty\n",
        "produkty([produkt(laptop, 10, sektor_b),\n",
        "          produkt(smartfon, 20, sektor_c),\n",
        "          produkt(tablet, 15, sektor_a)]).\n",
        "\n",
        "% Reguły\n",
        "dodaj_produkt(Produkt, StaraLista, NowaLista) :- append([Produkt], StaraLista, NowaLista).\n",
        "usun_produkt(Produkt, StaraLista, NowaLista) :- delete(StaraLista, Produkt, NowaLista).\n",
        "wypisz_produkty([]).\n",
        "wypisz_produkty([produkt(Nazwa, Ilosc, Sektor) | Reszta]) :- format('~w, Ilość: ~w, Sektor: ~w~n', [Nazwa, Ilosc, Sektor]), wypisz_produkty(Reszta).\n",
        "\n",
        "?- produkty(Lista), dodaj_produkt(produkt(tv, 5, sektor_a), Lista, NowaLista), wypisz_produkty(NowaLista).\n",
        "%tv, Ilość: 5, Sektor: sektor_a\n",
        "laptop, Ilość: 10, Sektor: sektor_b\n",
        "smartfon, Ilość: 20, Sektor: sektor_c\n",
        "tablet, Ilość: 15, Sektor: sektor_a\n",
        "Lista = [produkt(laptop,10,sektor_b), produkt(smartfon,20,sektor_c), produkt(tablet,15,sektor_a)],\n",
        "NowaLista = [produkt(tv,5,sektor_a), produkt(laptop,10,sektor_b), produkt(smartfon,20,sektor_c), produkt(tablet,15,sektor_a)]\n",
        "\n",
        "?- produkty(Lista), usun_produkt(produkt(laptop, 10, sektor_b), Lista, NowaLista), wypisz_produkty(NowaLista).\n",
        "%smartfon, Ilość: 20, Sektor: sektor_c\n",
        "tablet, Ilość: 15, Sektor: sektor_a\n",
        "Lista = [produkt(laptop,10,sektor_b), produkt(smartfon,20,sektor_c), produkt(tablet,15,sektor_a)],\n",
        "NowaLista = [produkt(smartfon,20,sektor_c), produkt(tablet,15,sektor_a)]"
      ],
      "metadata": {
        "id": "GGBFDWPSbEto"
      },
      "execution_count": null,
      "outputs": []
    },
    {
      "cell_type": "markdown",
      "source": [
        "Ćwiczenie 12**: Praca z listami i rekurencja"
      ],
      "metadata": {
        "id": "aw36812egNVI"
      }
    },
    {
      "cell_type": "code",
      "source": [
        "% Fakty\n",
        "zamien(_, _, [], []).\n",
        "dlugosc([], 0).\n",
        "\n",
        "% Reguły\n",
        "zamien(X, Y, [X | Ogon], [Y | OgonZamieniony]) :- zamien(X, Y, Ogon, OgonZamieniony).\n",
        "zamien(X, Y, [Glowa | Ogon], [Glowa | OgonZamieniony]) :- X \\= Glowa, zamien(X, Y, Ogon, OgonZamieniony).\n",
        "dlugosc([_ | Ogon], Dlugosc) :- dlugosc(Ogon, D), Dlugosc is D + 1.\n",
        "\n",
        "?- zamien(1, 9, [1, 2, 1, 3], L). %L = [9, 2, 9, 3]\n",
        "?- dlugosc([a, b, c, d], N). %N = 4"
      ],
      "metadata": {
        "id": "OxApnye7gRCB"
      },
      "execution_count": null,
      "outputs": []
    }
  ]
}