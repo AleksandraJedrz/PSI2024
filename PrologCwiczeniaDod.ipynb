{
  "nbformat": 4,
  "nbformat_minor": 0,
  "metadata": {
    "colab": {
      "provenance": []
    },
    "kernelspec": {
      "name": "python3",
      "display_name": "Python 3"
    },
    "language_info": {
      "name": "python"
    }
  },
  "cells": [
    {
      "cell_type": "code",
      "execution_count": null,
      "metadata": {
        "id": "KIniHOSElBI3"
      },
      "outputs": [],
      "source": []
    },
    {
      "cell_type": "markdown",
      "source": [
        "**Cw.1.**\n",
        "\n",
        "A: x i y są rodzeństwem\n",
        "\n",
        "B: x i y są rodzeństwem ciotecznym\n",
        "\n",
        "C: x i y są babciami lub dziadkami\n",
        "\n",
        "D: y jest dla x ojczymem lub macochą\n",
        "\n",
        "E: x i y są rodzeństwem przyszywanym\n",
        "\n",
        "F: y jest dla x szwagrem lub szwagierką\n",
        "\n",
        "**Cw.2.**\n",
        "\n",
        "1. kobieta(X) :- osoba(X), \\+ mezczyzna(X).\n",
        "2. ojciec(X,Y) :- mezczyzna(X), rodzic(X, Y).\n",
        "3. matka(X,Y) :- kobieta(X), rodzic(X, Y).\n",
        "4. corka(X,Y) :- kobieta(X), rodzic(Y, X).\n",
        "5. brat_rodzony(X,Y) :- mezczyzna(X), rodzic(Z, X), rodzic(Z, Y), X \\ = Y.\n",
        "6. brat_przyrodni(X,Y) :- mezczyzna(X), rodzic(Z, X), rodzic(W, Y), Z \\ = W, X \\ = Y.\n",
        "7. kuzyn(X,Y) :- rodzic(Z, X), rodzic(W, Y), brat_rodzony(Z, W).\n",
        "8. dziadek_od_strony_ojca(X,Y) :- ojciec(Z, Y), ojciec(X, Z).\n",
        "9. dziadek_od_strony_matki(X,Y) :- matka(Z, Y), ojciec(X, Z).\n",
        "10. dziadek(X,Y) :- mezczyzna(X), dziadek_od_strony_ojca(X, Y).\n",
        "\n",
        "   dziadek(X, Y) :- mezczyzna(X), dziadek_od_strony_matki(X, Y).\n",
        "11. babcia(X,Y) :- kobieta(X), matka(Z, Y), matka(X, Z).\n",
        "\n",
        " babcia(X, Y) :- kobieta(X), ojciec(Z, Y), matka(X, Z).\n",
        "12. wnuczka(X,Y) :- kobieta(X), matka(Y, Z), matka(Z, X).\n",
        "13. przodek_do2pokolenia_wstecz(X,Y) :- rodzic(X, Z), (dziadek(Z, Y); babcia(Z, Y)).\n",
        "14. przodek_do3pokolenia_wstecz(X,Y) :-  rodzic(Z, Y), przodek_do2pokolenia_wstecz(X, Z)."
      ],
      "metadata": {
        "id": "Fhc50eNWlJcF"
      }
    }
  ]
}